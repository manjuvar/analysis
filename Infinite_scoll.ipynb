{
 "cells": [
  {
   "cell_type": "code",
   "execution_count": 176,
   "metadata": {},
   "outputs": [],
   "source": [
    "import requests \n",
    "import pandas as pd"
   ]
  },
  {
   "attachments": {},
   "cell_type": "markdown",
   "metadata": {},
   "source": [
    "<font color='Orange'>Requests and CURL"
   ]
  },
  {
   "cell_type": "code",
   "execution_count": 237,
   "metadata": {},
   "outputs": [],
   "source": [
    "cookies = {\n",
    "    'gk_suid': '37964735',\n",
    "    'gki': '{%22feature_adobe_checkout_modal_primary_nav%22:false%2C%22feature_creative_cloud_search%22:false%2C%22feature_gql_profile_drafts_request%22:false}',\n",
    "    'originalReferrer': '',\n",
    "    'bcp': '0c4db048-0de2-42b8-83fd-e664d7c98bc9',\n",
    "    'OptanonConsent': 'groups=C0001:1,C0002:1,C0003:1,C0004:1',\n",
    "    'OptanonAlertBoxClosed': '2024-04-17T09:50:56.672Z',\n",
    "    'bcp_generated': '1681725055800',\n",
    "    'AMCVS_9E1005A551ED61CA0A490D45%40AdobeOrg': '1',\n",
    "    's_cc': 'true',\n",
    "    'g_state': '{\"i_p\":1681732269542,\"i_l\":1}',\n",
    "    'gpv': 'search:projects',\n",
    "    'dialog_dismissals': 'announcement_36',\n",
    "    's_sq': '%5B%5BB%5D%5D',\n",
    "    's_ppv': '[%22www.behance.net/%22%2C100%2C0%2C5293%2C967%2C871%2C1920%2C1080%2C1%2C%22P%22]',\n",
    "    '_fbp': 'fb.1.1681731280988.641294687',\n",
    "    'AMCV_9E1005A551ED61CA0A490D45%40AdobeOrg': '870038026%7CMCMID%7C90381156036340007814912488202152431244%7CMCAID%7CNONE%7CMCOPTOUT-1681738481s%7CNONE%7CvVersion%7C5.0.0%7CMCAAMLH-1682336081%7C12%7CMCAAMB-1682336081%7Cj8Odv6LonN4r3an7LhD3WZrU1bUpAkFkkiY1ncBR96t2PTI%7CMCCIDH%7C1791166524',\n",
    "}\n",
    "\n",
    "headers = {\n",
    "    'authority': 'www.behance.net',\n",
    "    'accept': '*/*',\n",
    "    'accept-language': 'en-US,en;q=0.9',\n",
    "    'content-type': 'application/json',\n",
    "    # 'cookie': 'gk_suid=37964735; gki={%22feature_adobe_checkout_modal_primary_nav%22:false%2C%22feature_creative_cloud_search%22:false%2C%22feature_gql_profile_drafts_request%22:false}; originalReferrer=; bcp=0c4db048-0de2-42b8-83fd-e664d7c98bc9; OptanonConsent=groups=C0001:1,C0002:1,C0003:1,C0004:1; OptanonAlertBoxClosed=2024-04-17T09:50:56.672Z; bcp_generated=1681725055800; AMCVS_9E1005A551ED61CA0A490D45%40AdobeOrg=1; s_cc=true; g_state={\"i_p\":1681732269542,\"i_l\":1}; gpv=search:projects; dialog_dismissals=announcement_36; s_sq=%5B%5BB%5D%5D; s_ppv=[%22www.behance.net/%22%2C100%2C0%2C5293%2C967%2C871%2C1920%2C1080%2C1%2C%22P%22]; _fbp=fb.1.1681731280988.641294687; AMCV_9E1005A551ED61CA0A490D45%40AdobeOrg=870038026%7CMCMID%7C90381156036340007814912488202152431244%7CMCAID%7CNONE%7CMCOPTOUT-1681738481s%7CNONE%7CvVersion%7C5.0.0%7CMCAAMLH-1682336081%7C12%7CMCAAMB-1682336081%7Cj8Odv6LonN4r3an7LhD3WZrU1bUpAkFkkiY1ncBR96t2PTI%7CMCCIDH%7C1791166524',\n",
    "    'origin': 'https://www.behance.net',\n",
    "    'referer': 'https://www.behance.net/search/projects?field=architecture',\n",
    "    'sec-ch-ua': '\"Chromium\";v=\"112\", \"Google Chrome\";v=\"112\", \"Not:A-Brand\";v=\"99\"',\n",
    "    'sec-ch-ua-mobile': '?0',\n",
    "    'sec-ch-ua-platform': '\"Linux\"',\n",
    "    'sec-fetch-dest': 'empty',\n",
    "    'sec-fetch-mode': 'cors',\n",
    "    'sec-fetch-site': 'same-origin',\n",
    "    'user-agent': 'Mozilla/5.0 (X11; Linux x86_64) AppleWebKit/537.36 (KHTML, like Gecko) Chrome/112.0.0.0 Safari/537.36',\n",
    "    'x-bcp': '0c4db048-0de2-42b8-83fd-e664d7c98bc9',\n",
    "    'x-newrelic-id': 'VgUFVldbGwsFU1BRDwUBVw==',\n",
    "    'x-requested-with': 'XMLHttpRequest',\n",
    "}\n",
    "\n",
    "json_data = {\n",
    "    'query': '\\n      query GetProjectSearchResults($query: query, $filter: SearchResultFilter, $first: Int!, $after: String) {\\n        search(query: $query, type: PROJECT, filter: $filter, first: $first, after: $after) {\\n          pageInfo {\\n            hasNextPage\\n            endCursor\\n          }\\n          nodes {\\n            ... on Project {\\n              id\\n              colors {\\n                r\\n                g\\n                b\\n              }\\n              isMatureReviewSubmitted\\n              linkedAssetsCount\\n              name\\n              premium\\n              isPrivate\\n              publishedOn\\n              isFounder\\n              isFeatured\\n              modifiedOn\\n              adminFlags {\\n                mature_lock\\n                privacy_lock\\n                dmca_lock\\n                flagged_lock\\n                privacy_violation_lock\\n                trademark_lock\\n                spam_lock\\n                eu_ip_lock\\n              }\\n              features {\\n                featuredOn\\n                url\\n                name\\n                ribbon {\\n                  image\\n                  image2x\\n                  image3x\\n                }\\n              }\\n              slug\\n              stats {\\n                views {\\n                  all\\n                }\\n                appreciations {\\n                  all\\n                }\\n                comments {\\n                  all\\n                }\\n              }\\n              url\\n              fields {\\n                label\\n              }\\n              linkedAssets {\\n                ...sourceLinkFields\\n              }\\n              sourceFiles {\\n                ...sourceFileFields\\n              }\\n              matureAccess\\n              hasMatureContent\\n              owners {\\n                ...OwnerFields\\n                images {\\n                  size_50 {\\n                    url\\n                  }\\n                  size_100 {\\n                    url\\n                  }\\n                  size_115 {\\n                    url\\n                  }\\n                  size_138 {\\n                    url\\n                  }\\n                  size_230 {\\n                    url\\n                  }\\n                  size_276 {\\n                    url\\n                  }\\n                }\\n              }\\n              covers {\\n                size_original {\\n                  url\\n                }\\n                size_max_808 {\\n                  url\\n                }\\n                size_808 {\\n                  url\\n                }\\n                size_404 {\\n                  url\\n                }\\n                size_202 {\\n                  url\\n                }\\n                size_230 {\\n                  url\\n                }\\n                size_115 {\\n                  url\\n                }\\n                size_original_webp {\\n                  url\\n                }\\n                size_max_808_webp {\\n                  url\\n                }\\n                size_808_webp {\\n                  url\\n                }\\n                size_404_webp {\\n                  url\\n                }\\n                size_202_webp {\\n                  url\\n                }\\n                size_230_webp {\\n                  url\\n                }\\n                size_115_webp {\\n                  url\\n                }\\n              }\\n            }\\n          }\\n          metaContent {\\n            toolCard {\\n              cta {\\n                text\\n                url\\n              }\\n              description\\n              links {\\n                text\\n                url\\n                type\\n              }\\n              slug\\n              title\\n            }\\n            schoolCard {\\n              cta {\\n                text\\n                url\\n              }\\n              description\\n              slug\\n            }\\n            csam {\\n              isCSAMViolation\\n              description\\n              helpResource\\n              reportingOption\\n            }\\n            followableTag {\\n              isFollowing\\n              tag {\\n                id\\n                title\\n              }\\n            }\\n          }\\n        }\\n      }\\n\\n      \\n  fragment sourceLinkFields on LinkedAsset {\\n    __typename\\n    moduleIds\\n    name\\n    premium\\n    url\\n    category\\n    licenseType\\n  }\\n\\n      \\n  fragment sourceFileFields on SourceFile {\\n    __typename\\n    sourceFileId\\n    projectId\\n    userId\\n    title\\n    assetId\\n    renditionUrl\\n    mimeType\\n    size\\n    category\\n    licenseType\\n    moduleIds\\n    unitAmount\\n    currency\\n    tier\\n    hidden\\n    extension\\n    hasUserPurchased\\n  }\\n\\n      \\n  fragment OwnerFields on User {\\n    displayName\\n    hasPremiumAccess\\n    id\\n    isFollowing\\n    isProfileOwner\\n    location\\n    locationUrl\\n    url\\n    username\\n  }\\n\\n    ',\n",
    "    'variables': {\n",
    "        'filter': {\n",
    "            'field': 'architecture',\n",
    "        },\n",
    "        'first': 48,\n",
    "        'after': 'MTQ3',\n",
    "    },\n",
    "}\n",
    "\n",
    "response = requests.post('https://www.behance.net/v3/graphql', cookies=cookies, headers=headers, json=json_data)\n",
    "\n",
    "\n",
    "# Note: json_data will not be serialized by requests\n",
    "# exactly as it was in the original request.\n",
    "#data = '{\"query\":\"\\\\n      query GetProjectSearchResults($query: query, $filter: SearchResultFilter, $first: Int!, $after: String) {\\\\n        search(query: $query, type: PROJECT, filter: $filter, first: $first, after: $after) {\\\\n          pageInfo {\\\\n            hasNextPage\\\\n            endCursor\\\\n          }\\\\n          nodes {\\\\n            ... on Project {\\\\n              id\\\\n              colors {\\\\n                r\\\\n                g\\\\n                b\\\\n              }\\\\n              isMatureReviewSubmitted\\\\n              linkedAssetsCount\\\\n              name\\\\n              premium\\\\n              isPrivate\\\\n              publishedOn\\\\n              isFounder\\\\n              isFeatured\\\\n              modifiedOn\\\\n              adminFlags {\\\\n                mature_lock\\\\n                privacy_lock\\\\n                dmca_lock\\\\n                flagged_lock\\\\n                privacy_violation_lock\\\\n                trademark_lock\\\\n                spam_lock\\\\n                eu_ip_lock\\\\n              }\\\\n              features {\\\\n                featuredOn\\\\n                url\\\\n                name\\\\n                ribbon {\\\\n                  image\\\\n                  image2x\\\\n                  image3x\\\\n                }\\\\n              }\\\\n              slug\\\\n              stats {\\\\n                views {\\\\n                  all\\\\n                }\\\\n                appreciations {\\\\n                  all\\\\n                }\\\\n                comments {\\\\n                  all\\\\n                }\\\\n              }\\\\n              url\\\\n              fields {\\\\n                label\\\\n              }\\\\n              linkedAssets {\\\\n                ...sourceLinkFields\\\\n              }\\\\n              sourceFiles {\\\\n                ...sourceFileFields\\\\n              }\\\\n              matureAccess\\\\n              hasMatureContent\\\\n              owners {\\\\n                ...OwnerFields\\\\n                images {\\\\n                  size_50 {\\\\n                    url\\\\n                  }\\\\n                  size_100 {\\\\n                    url\\\\n                  }\\\\n                  size_115 {\\\\n                    url\\\\n                  }\\\\n                  size_138 {\\\\n                    url\\\\n                  }\\\\n                  size_230 {\\\\n                    url\\\\n                  }\\\\n                  size_276 {\\\\n                    url\\\\n                  }\\\\n                }\\\\n              }\\\\n              covers {\\\\n                size_original {\\\\n                  url\\\\n                }\\\\n                size_max_808 {\\\\n                  url\\\\n                }\\\\n                size_808 {\\\\n                  url\\\\n                }\\\\n                size_404 {\\\\n                  url\\\\n                }\\\\n                size_202 {\\\\n                  url\\\\n                }\\\\n                size_230 {\\\\n                  url\\\\n                }\\\\n                size_115 {\\\\n                  url\\\\n                }\\\\n                size_original_webp {\\\\n                  url\\\\n                }\\\\n                size_max_808_webp {\\\\n                  url\\\\n                }\\\\n                size_808_webp {\\\\n                  url\\\\n                }\\\\n                size_404_webp {\\\\n                  url\\\\n                }\\\\n                size_202_webp {\\\\n                  url\\\\n                }\\\\n                size_230_webp {\\\\n                  url\\\\n                }\\\\n                size_115_webp {\\\\n                  url\\\\n                }\\\\n              }\\\\n            }\\\\n          }\\\\n          metaContent {\\\\n            toolCard {\\\\n              cta {\\\\n                text\\\\n                url\\\\n              }\\\\n              description\\\\n              links {\\\\n                text\\\\n                url\\\\n                type\\\\n              }\\\\n              slug\\\\n              title\\\\n            }\\\\n            schoolCard {\\\\n              cta {\\\\n                text\\\\n                url\\\\n              }\\\\n              description\\\\n              slug\\\\n            }\\\\n            csam {\\\\n              isCSAMViolation\\\\n              description\\\\n              helpResource\\\\n              reportingOption\\\\n            }\\\\n            followableTag {\\\\n              isFollowing\\\\n              tag {\\\\n                id\\\\n                title\\\\n              }\\\\n            }\\\\n          }\\\\n        }\\\\n      }\\\\n\\\\n      \\\\n  fragment sourceLinkFields on LinkedAsset {\\\\n    __typename\\\\n    moduleIds\\\\n    name\\\\n    premium\\\\n    url\\\\n    category\\\\n    licenseType\\\\n  }\\\\n\\\\n      \\\\n  fragment sourceFileFields on SourceFile {\\\\n    __typename\\\\n    sourceFileId\\\\n    projectId\\\\n    userId\\\\n    title\\\\n    assetId\\\\n    renditionUrl\\\\n    mimeType\\\\n    size\\\\n    category\\\\n    licenseType\\\\n    moduleIds\\\\n    unitAmount\\\\n    currency\\\\n    tier\\\\n    hidden\\\\n    extension\\\\n    hasUserPurchased\\\\n  }\\\\n\\\\n      \\\\n  fragment OwnerFields on User {\\\\n    displayName\\\\n    hasPremiumAccess\\\\n    id\\\\n    isFollowing\\\\n    isProfileOwner\\\\n    location\\\\n    locationUrl\\\\n    url\\\\n    username\\\\n  }\\\\n\\\\n    \",\"variables\":{\"filter\":{\"field\":\"graphic design\"},\"first\":48,\"after\":\"NDk=\"}}'\n",
    "#response = requests.post('https://www.behance.net/v3/graphql', cookies=cookies, headers=headers, data=data)"
   ]
  },
  {
   "attachments": {},
   "cell_type": "markdown",
   "metadata": {},
   "source": [
    "<font color='Orange'>Check Status Code</font>"
   ]
  },
  {
   "cell_type": "code",
   "execution_count": 178,
   "metadata": {},
   "outputs": [
    {
     "data": {
      "text/plain": [
       "<Response [200]>"
      ]
     },
     "execution_count": 178,
     "metadata": {},
     "output_type": "execute_result"
    }
   ],
   "source": [
    "response"
   ]
  },
  {
   "attachments": {},
   "cell_type": "markdown",
   "metadata": {},
   "source": [
    "<font color='Orange'>Create JSON object"
   ]
  },
  {
   "cell_type": "code",
   "execution_count": 179,
   "metadata": {},
   "outputs": [],
   "source": [
    "results_json = response.json()\n"
   ]
  },
  {
   "attachments": {},
   "cell_type": "markdown",
   "metadata": {},
   "source": [
    "<font color='Orange'>Output keys"
   ]
  },
  {
   "cell_type": "code",
   "execution_count": 180,
   "metadata": {},
   "outputs": [
    {
     "data": {
      "text/plain": [
       "dict_keys(['data', 'http_code'])"
      ]
     },
     "execution_count": 180,
     "metadata": {},
     "output_type": "execute_result"
    }
   ],
   "source": [
    "results_json.keys()\n"
   ]
  },
  {
   "attachments": {},
   "cell_type": "markdown",
   "metadata": {},
   "source": [
    "<font color='Orange'>Find your data"
   ]
  },
  {
   "cell_type": "code",
   "execution_count": 187,
   "metadata": {},
   "outputs": [
    {
     "data": {
      "text/plain": [
       "47"
      ]
     },
     "execution_count": 187,
     "metadata": {},
     "output_type": "execute_result"
    }
   ],
   "source": [
    "#result_items (total-48)\n",
    "result_items = results_json['data']['search']['nodes']\n",
    "len(result_items)"
   ]
  },
  {
   "cell_type": "code",
   "execution_count": 188,
   "metadata": {},
   "outputs": [
    {
     "data": {
      "text/plain": [
       "{'id': 162059517,\n",
       " 'colors': {'r': 24, 'g': 20, 'b': 22},\n",
       " 'isMatureReviewSubmitted': None,\n",
       " 'linkedAssetsCount': 0,\n",
       " 'name': 'Architecture / HAY Boutique Hotel and SPA',\n",
       " 'premium': 0,\n",
       " 'isPrivate': False,\n",
       " 'publishedOn': 1674661312,\n",
       " 'isFounder': False,\n",
       " 'isFeatured': True,\n",
       " 'modifiedOn': 1675442719,\n",
       " 'adminFlags': None,\n",
       " 'features': [{'featuredOn': 1675380608,\n",
       "   'url': 'https://www.behance.net/galleries/architecture/architecture',\n",
       "   'name': 'Architecture',\n",
       "   'ribbon': {'image': 'https://a5.behance.net/9816cbf212121ab998313b49dbd23c2a7763710c/img/galleries/icons/ribbons/1x/architecture.png?cb=264615658',\n",
       "    'image2x': 'https://a5.behance.net/9816cbf212121ab998313b49dbd23c2a7763710c/img/galleries/icons/ribbons/2x/architecture@2x.png?cb=264615658',\n",
       "    'image3x': 'https://a5.behance.net/9816cbf212121ab998313b49dbd23c2a7763710c/img/galleries/icons/ribbons/3x/architecture@3x.png?cb=264615658'}}],\n",
       " 'slug': 'Architecture-HAY-Boutique-Hotel-and-SPA',\n",
       " 'stats': {'views': {'all': 8646},\n",
       "  'appreciations': {'all': 767},\n",
       "  'comments': {'all': 15}},\n",
       " 'url': 'https://www.behance.net/gallery/162059517/Architecture-HAY-Boutique-Hotel-and-SPA',\n",
       " 'fields': [{'label': 'Architecture'}, {'label': 'Interior Design'}],\n",
       " 'linkedAssets': [],\n",
       " 'sourceFiles': [],\n",
       " 'matureAccess': 'allowed',\n",
       " 'hasMatureContent': False,\n",
       " 'owners': [{'displayName': 'YOD Group',\n",
       "   'hasPremiumAccess': False,\n",
       "   'id': 325587,\n",
       "   'isFollowing': False,\n",
       "   'isProfileOwner': False,\n",
       "   'location': 'Kyiv, Ukraine',\n",
       "   'locationUrl': 'https://www.behance.net/search?content=users&country=UA&city=Kyiv',\n",
       "   'url': 'https://www.behance.net/yod',\n",
       "   'username': 'yod',\n",
       "   'images': {'size_50': {'url': 'https://mir-s3-cdn-cf.behance.net/user/50/d6cfdc325587.61cc387f672a2.jpg'},\n",
       "    'size_100': {'url': 'https://mir-s3-cdn-cf.behance.net/user/100/d6cfdc325587.61cc387f672a2.jpg'},\n",
       "    'size_115': {'url': 'https://mir-s3-cdn-cf.behance.net/user/115/d6cfdc325587.61cc387f672a2.jpg'},\n",
       "    'size_138': {'url': 'https://mir-s3-cdn-cf.behance.net/user/138/d6cfdc325587.61cc387f672a2.jpg'},\n",
       "    'size_230': {'url': 'https://mir-s3-cdn-cf.behance.net/user/230/d6cfdc325587.61cc387f672a2.jpg'},\n",
       "    'size_276': {'url': 'https://mir-s3-cdn-cf.behance.net/user/276/d6cfdc325587.61cc387f672a2.jpg'}}},\n",
       "  {'displayName': 'yevhenii avramenko',\n",
       "   'hasPremiumAccess': False,\n",
       "   'id': 166483529,\n",
       "   'isFollowing': False,\n",
       "   'isProfileOwner': False,\n",
       "   'location': 'Kyiv, Ukraine',\n",
       "   'locationUrl': 'https://www.behance.net/search?content=users&country=UA&city=Kyiv',\n",
       "   'url': 'https://www.behance.net/yevheniiavramenko',\n",
       "   'username': 'yevheniiavramenko',\n",
       "   'images': {'size_50': {'url': 'https://mir-s3-cdn-cf.behance.net/user/50/5d7f70166483529.641c6d4c2c39b.jpg'},\n",
       "    'size_100': {'url': 'https://mir-s3-cdn-cf.behance.net/user/100/5d7f70166483529.641c6d4c2c39b.jpg'},\n",
       "    'size_115': {'url': 'https://mir-s3-cdn-cf.behance.net/user/115/5d7f70166483529.641c6d4c2c39b.jpg'},\n",
       "    'size_138': {'url': 'https://mir-s3-cdn-cf.behance.net/user/138/5d7f70166483529.641c6d4c2c39b.jpg'},\n",
       "    'size_230': {'url': 'https://mir-s3-cdn-cf.behance.net/user/230/5d7f70166483529.641c6d4c2c39b.jpg'},\n",
       "    'size_276': {'url': 'https://mir-s3-cdn-cf.behance.net/user/276/5d7f70166483529.641c6d4c2c39b.jpg'}}}],\n",
       " 'covers': {'size_original': {'url': 'https://mir-s3-cdn-cf.behance.net/projects/original/48a2de162059517.Y3JvcCwxMTk4LDkzNywwLDg1OQ.jpg'},\n",
       "  'size_max_808': {'url': 'https://mir-s3-cdn-cf.behance.net/projects/max_808/48a2de162059517.Y3JvcCwxMTk4LDkzNywwLDg1OQ.jpg'},\n",
       "  'size_808': {'url': 'https://mir-s3-cdn-cf.behance.net/projects/808/48a2de162059517.Y3JvcCwxMTk4LDkzNywwLDg1OQ.jpg'},\n",
       "  'size_404': {'url': 'https://mir-s3-cdn-cf.behance.net/projects/404/48a2de162059517.Y3JvcCwxMTk4LDkzNywwLDg1OQ.jpg'},\n",
       "  'size_202': {'url': 'https://mir-s3-cdn-cf.behance.net/projects/202/48a2de162059517.Y3JvcCwxMTk4LDkzNywwLDg1OQ.jpg'},\n",
       "  'size_230': {'url': 'https://mir-s3-cdn-cf.behance.net/projects/230/48a2de162059517.Y3JvcCwxMTk4LDkzNywwLDg1OQ.jpg'},\n",
       "  'size_115': {'url': 'https://mir-s3-cdn-cf.behance.net/projects/115/48a2de162059517.Y3JvcCwxMTk4LDkzNywwLDg1OQ.jpg'},\n",
       "  'size_original_webp': {'url': 'https://mir-s3-cdn-cf.behance.net/projects/original_webp/48a2de162059517.Y3JvcCwxMTk4LDkzNywwLDg1OQ.jpg'},\n",
       "  'size_max_808_webp': {'url': 'https://mir-s3-cdn-cf.behance.net/projects/max_808_webp/48a2de162059517.Y3JvcCwxMTk4LDkzNywwLDg1OQ.jpg'},\n",
       "  'size_808_webp': {'url': 'https://mir-s3-cdn-cf.behance.net/projects/808_webp/48a2de162059517.Y3JvcCwxMTk4LDkzNywwLDg1OQ.jpg'},\n",
       "  'size_404_webp': {'url': 'https://mir-s3-cdn-cf.behance.net/projects/404_webp/48a2de162059517.Y3JvcCwxMTk4LDkzNywwLDg1OQ.jpg'},\n",
       "  'size_202_webp': {'url': 'https://mir-s3-cdn-cf.behance.net/projects/202_webp/48a2de162059517.Y3JvcCwxMTk4LDkzNywwLDg1OQ.jpg'},\n",
       "  'size_230_webp': {'url': 'https://mir-s3-cdn-cf.behance.net/projects/230_webp/48a2de162059517.Y3JvcCwxMTk4LDkzNywwLDg1OQ.jpg'},\n",
       "  'size_115_webp': {'url': 'https://mir-s3-cdn-cf.behance.net/projects/115_webp/48a2de162059517.Y3JvcCwxMTk4LDkzNywwLDg1OQ.jpg'}}}"
      ]
     },
     "execution_count": 188,
     "metadata": {},
     "output_type": "execute_result"
    }
   ],
   "source": [
    "result_items[0]"
   ]
  },
  {
   "cell_type": "code",
   "execution_count": 183,
   "metadata": {},
   "outputs": [],
   "source": [
    "#name\n",
    "#first name\n",
    "#last name\n",
    "#username\n",
    "#country\n",
    "#views\n",
    "#appreciations\n",
    "#comments\n",
    "#url"
   ]
  },
  {
   "cell_type": "code",
   "execution_count": 199,
   "metadata": {},
   "outputs": [
    {
     "data": {
      "text/plain": [
       "dict_keys(['id', 'colors', 'isMatureReviewSubmitted', 'linkedAssetsCount', 'name', 'premium', 'isPrivate', 'publishedOn', 'isFounder', 'isFeatured', 'modifiedOn', 'adminFlags', 'features', 'slug', 'stats', 'url', 'fields', 'linkedAssets', 'sourceFiles', 'matureAccess', 'hasMatureContent', 'owners', 'covers'])"
      ]
     },
     "execution_count": 199,
     "metadata": {},
     "output_type": "execute_result"
    }
   ],
   "source": [
    "result_items[0].keys()"
   ]
  },
  {
   "attachments": {},
   "cell_type": "markdown",
   "metadata": {},
   "source": [
    "<font color='Orange'>Put everything together - Loop through results and append data inside a list</font>"
   ]
  },
  {
   "cell_type": "code",
   "execution_count": 233,
   "metadata": {},
   "outputs": [],
   "source": [
    "name = []\n",
    "full_name = []\n",
    "username = []\n",
    "country = []\n",
    "views = []\n",
    "appreciations = []\n",
    "comments = []\n",
    "url = []\n",
    "\n",
    "for i in range(1,47):\n",
    "\n",
    "    #name\n",
    "    name.append(result_items[i]['name'])\n",
    "\n",
    "    #username\n",
    "    try:\n",
    "        username.append(result_items[i]['owners'][1]['username'])\n",
    "    except IndexError as ie:\n",
    "        username.append(result_items[i]['owners'][0]['username'])\n",
    "\n",
    "    #full name\n",
    "    try:\n",
    "        full_name.append(result_items[i]['owners'][1]['displayName'])\n",
    "    except IndexError as ie:\n",
    "        full_name.append(result_items[i]['owners'][0]['displayName'])\n",
    "\n",
    "    #country\n",
    "    country.append(result_items[i]['owners'][0]['location'])\n",
    "\n",
    "    #views\n",
    "    views.append(result_items[i]['stats']['views']['all'])\n",
    "\n",
    "    #appreciations\n",
    "    appreciations.append(result_items[i]['stats']['appreciations']['all'])\n",
    "\n",
    "    #comments\n",
    "    comments.append(result_items[i]['stats']['comments']['all'])\n"
   ]
  },
  {
   "cell_type": "code",
   "execution_count": 234,
   "metadata": {},
   "outputs": [],
   "source": [
    "inf_scroll_df = pd.DataFrame({'Name':name, 'Username':username, 'Country':country, \n",
    "                         'Views': views, 'Appreciaation':appreciations, 'Comments':comments})"
   ]
  },
  {
   "cell_type": "code",
   "execution_count": 238,
   "metadata": {},
   "outputs": [
    {
     "data": {
      "text/html": [
       "<div>\n",
       "<style scoped>\n",
       "    .dataframe tbody tr th:only-of-type {\n",
       "        vertical-align: middle;\n",
       "    }\n",
       "\n",
       "    .dataframe tbody tr th {\n",
       "        vertical-align: top;\n",
       "    }\n",
       "\n",
       "    .dataframe thead th {\n",
       "        text-align: right;\n",
       "    }\n",
       "</style>\n",
       "<table border=\"1\" class=\"dataframe\">\n",
       "  <thead>\n",
       "    <tr style=\"text-align: right;\">\n",
       "      <th></th>\n",
       "      <th>Name</th>\n",
       "      <th>Username</th>\n",
       "      <th>Country</th>\n",
       "      <th>Views</th>\n",
       "      <th>Appreciaation</th>\n",
       "      <th>Comments</th>\n",
       "    </tr>\n",
       "  </thead>\n",
       "  <tbody>\n",
       "    <tr>\n",
       "      <th>0</th>\n",
       "      <td>Brickalicious II</td>\n",
       "      <td>leblanc</td>\n",
       "      <td>Hamburg, Germany</td>\n",
       "      <td>4684</td>\n",
       "      <td>505</td>\n",
       "      <td>13</td>\n",
       "    </tr>\n",
       "    <tr>\n",
       "      <th>1</th>\n",
       "      <td>Denmark Space</td>\n",
       "      <td>gfabra1</td>\n",
       "      <td>Valencia, Spain</td>\n",
       "      <td>18960</td>\n",
       "      <td>1842</td>\n",
       "      <td>63</td>\n",
       "    </tr>\n",
       "    <tr>\n",
       "      <th>2</th>\n",
       "      <td>Tverrfjellhytta, Norwegian Wild Reindeer Pavilion</td>\n",
       "      <td>svmelnikoff</td>\n",
       "      <td>Dubai, United Arab Emirates</td>\n",
       "      <td>5884</td>\n",
       "      <td>458</td>\n",
       "      <td>12</td>\n",
       "    </tr>\n",
       "    <tr>\n",
       "      <th>3</th>\n",
       "      <td>Sculptural Chair</td>\n",
       "      <td>cengizozen9a1b</td>\n",
       "      <td>Istanbul, Turkey</td>\n",
       "      <td>3616</td>\n",
       "      <td>257</td>\n",
       "      <td>9</td>\n",
       "    </tr>\n",
       "    <tr>\n",
       "      <th>4</th>\n",
       "      <td>RUST HOUSE</td>\n",
       "      <td>kredens4a62a</td>\n",
       "      <td>Lviv, Ukraine</td>\n",
       "      <td>4318</td>\n",
       "      <td>471</td>\n",
       "      <td>17</td>\n",
       "    </tr>\n",
       "  </tbody>\n",
       "</table>\n",
       "</div>"
      ],
      "text/plain": [
       "                                                Name        Username  \\\n",
       "0                                   Brickalicious II         leblanc   \n",
       "1                                      Denmark Space         gfabra1   \n",
       "2  Tverrfjellhytta, Norwegian Wild Reindeer Pavilion     svmelnikoff   \n",
       "3                                   Sculptural Chair  cengizozen9a1b   \n",
       "4                                         RUST HOUSE    kredens4a62a   \n",
       "\n",
       "                       Country  Views  Appreciaation  Comments  \n",
       "0             Hamburg, Germany   4684            505        13  \n",
       "1              Valencia, Spain  18960           1842        63  \n",
       "2  Dubai, United Arab Emirates   5884            458        12  \n",
       "3             Istanbul, Turkey   3616            257         9  \n",
       "4                Lviv, Ukraine   4318            471        17  "
      ]
     },
     "execution_count": 238,
     "metadata": {},
     "output_type": "execute_result"
    }
   ],
   "source": [
    "inf_scroll_df.head()"
   ]
  },
  {
   "cell_type": "code",
   "execution_count": 236,
   "metadata": {},
   "outputs": [],
   "source": [
    "inf_scroll_df.to_excel('inf_behance.xlsx', index=False)"
   ]
  },
  {
   "cell_type": "code",
   "execution_count": null,
   "metadata": {},
   "outputs": [],
   "source": []
  }
 ],
 "metadata": {
  "kernelspec": {
   "display_name": "Python 3",
   "language": "python",
   "name": "python3"
  },
  "language_info": {
   "codemirror_mode": {
    "name": "ipython",
    "version": 3
   },
   "file_extension": ".py",
   "mimetype": "text/x-python",
   "name": "python",
   "nbconvert_exporter": "python",
   "pygments_lexer": "ipython3",
   "version": "3.10.6"
  },
  "orig_nbformat": 4
 },
 "nbformat": 4,
 "nbformat_minor": 2
}
